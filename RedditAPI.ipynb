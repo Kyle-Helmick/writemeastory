{
 "cells": [
  {
   "cell_type": "code",
   "execution_count": null,
   "metadata": {
    "ExecuteTime": {
     "end_time": "2019-04-28T07:40:24.871831Z",
     "start_time": "2019-04-28T07:40:24.869665Z"
    }
   },
   "outputs": [],
   "source": [
    "import praw\n",
    "import pandas as pd\n",
    "import datetime\n",
    "import time\n",
    "import re"
   ]
  },
  {
   "cell_type": "code",
   "execution_count": null,
   "metadata": {
    "ExecuteTime": {
     "end_time": "2019-04-28T07:40:25.209755Z",
     "start_time": "2019-04-28T07:40:25.204768Z"
    }
   },
   "outputs": [],
   "source": [
    "from IPython.core.display import display, HTML\n",
    "display(HTML(\"<style>.container { width:100% !important; }</style>\"))"
   ]
  },
  {
   "cell_type": "code",
   "execution_count": null,
   "metadata": {
    "ExecuteTime": {
     "end_time": "2019-04-28T07:40:25.544858Z",
     "start_time": "2019-04-28T07:40:25.540869Z"
    }
   },
   "outputs": [],
   "source": [
    "SCRIPT_ID=\"\"\n",
    "SCRIPT_SECRET=\"\"\n",
    "USERNAME=\"\"\n",
    "PASSWORD=\"\""
   ]
  },
  {
   "cell_type": "code",
   "execution_count": null,
   "metadata": {
    "ExecuteTime": {
     "end_time": "2019-04-28T07:40:25.944826Z",
     "start_time": "2019-04-28T07:40:25.936847Z"
    }
   },
   "outputs": [],
   "source": [
    "def to_dict(submission_list):\n",
    "    \n",
    "    submissions = []\n",
    "    \n",
    "    for submission in submission_list:\n",
    "        entry = {\n",
    "            \"title\":[], \n",
    "            \"score\":[], \n",
    "            \"id\":[], \"url\":[], \n",
    "            \"comms_num\": [],\n",
    "            \"created\": [],\n",
    "            \"body\":[]\n",
    "        }\n",
    "        \n",
    "        \n",
    "        entry[\"title\"] = submission.title\n",
    "        entry[\"score\"] = submission.score\n",
    "        entry[\"id\"] = submission.id\n",
    "        entry[\"url\"] = submission.url\n",
    "        entry[\"comms_num\"] = submission.num_comments\n",
    "        entry[\"created\"] = datetime.datetime.fromtimestamp(submission.created)\n",
    "        entry[\"body\"] = submission.selftext\n",
    "        \n",
    "        submissions.append(entry)\n",
    "        \n",
    "    return submissions\n",
    "\n",
    "def format_comment(comment):\n",
    "    \n",
    "    comment_body = comment.body\n",
    "    \n",
    "    comment_body = comment_body.strip()\n",
    "    \n",
    "    if (comment_body == \"[deleted]\") \\\n",
    "        or (comment_body == \"[removed]\") \\\n",
    "        or re.search(r\"All top-level comments must be a story or poem\\. Reply here for other comments\\.\", comment_body):\n",
    "        return\n",
    "    \n",
    "    comment_body = re.sub(r\"(“|”)\", '\"', comment_body)\n",
    "    comment_body = re.sub(r\"\\[.*?\\]\\(.*?\\)\", '\"', comment_body)\n",
    "    comment_body = re.sub(r\"\\*\\*\\*\\*\\*\", \"\", comment_body)\n",
    "    comment_body = re.sub(r\" > \", \"\", comment_body)\n",
    "    comment_body = re.sub(r\"(-|_){3,}\", \"\", comment_body)\n",
    "    \n",
    "    return comment_body"
   ]
  },
  {
   "cell_type": "code",
   "execution_count": null,
   "metadata": {
    "ExecuteTime": {
     "end_time": "2019-04-28T07:40:27.956838Z",
     "start_time": "2019-04-28T07:40:26.500766Z"
    }
   },
   "outputs": [],
   "source": [
    "reddit = praw.Reddit(client_id=SCRIPT_ID, client_secret=SCRIPT_SECRET, user_agent=\"writemeastory\", username=USERNAME, password=PASSWORD)\n",
    "writing_prompts = reddit.subreddit('WritingPrompts')\n",
    "top_writing_prompts = writing_prompts.top()\n",
    "posts = to_dict(top_writing_prompts)"
   ]
  },
  {
   "cell_type": "code",
   "execution_count": null,
   "metadata": {
    "ExecuteTime": {
     "end_time": "2019-04-28T08:58:46.985590Z",
     "start_time": "2019-04-28T07:40:27.958579Z"
    }
   },
   "outputs": [],
   "source": [
    "with open('test.txt', 'w', encoding=\"utf-8\") as f:\n",
    "    for post in posts:\n",
    "        comments = []\n",
    "        submission = reddit.submission(id=post['id'])\n",
    "        submission.comments.replace_more(limit=None)\n",
    "        for comment in submission.comments:\n",
    "            comments.append(comment)\n",
    "        print(\"{} comments found\".format(len(comments)))\n",
    "        formatted_comments = list(filter(None, map(format_comment, comments)))\n",
    "        for comment in formatted_comments:\n",
    "            f.write(comment)\n",
    "        time.sleep(30)\n",
    "    f.close()"
   ]
  }
 ],
 "metadata": {
  "kernelspec": {
   "display_name": "Python 3",
   "language": "python",
   "name": "python3"
  },
  "language_info": {
   "codemirror_mode": {
    "name": "ipython",
    "version": 3
   },
   "file_extension": ".py",
   "mimetype": "text/x-python",
   "name": "python",
   "nbconvert_exporter": "python",
   "pygments_lexer": "ipython3",
   "version": "3.7.2"
  }
 },
 "nbformat": 4,
 "nbformat_minor": 2
}
